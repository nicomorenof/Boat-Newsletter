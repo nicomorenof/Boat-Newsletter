{
  "nbformat": 4,
  "nbformat_minor": 0,
  "metadata": {
    "colab": {
      "provenance": []
    },
    "kernelspec": {
      "name": "python3",
      "display_name": "Python 3"
    },
    "language_info": {
      "name": "python"
    }
  },
  "cells": [
    {
      "cell_type": "markdown",
      "source": [
        "# Case Study"
      ],
      "metadata": {
        "id": "0RB1N_FKRj2A"
      }
    },
    {
      "cell_type": "markdown",
      "source": [
        "You are working as a data analyst for a yacht and boat sales website. The marketing team is preparing a weekly newsletter for boat owners. The newsletter is designed to help sellers to get more views of their boat, as well as stay on top of market trends.\n",
        "\n",
        "They would like you to take a look at the recent data and help them learn more about the\n",
        "characteristics of the most viewed boat listings in the last 7 days - is it the most expensive boats\n",
        "that get the most views? Are there common features among the most viewed boats?\n"
      ],
      "metadata": {
        "id": "7avlCDCHRa-5"
      }
    },
    {
      "cell_type": "markdown",
      "source": [
        " Variables:\n",
        " - Price Character, boat price listed in different currencies (e.g.\n",
        "EUR, Â£, CHF etc.) on the website\n",
        " - Boat Type Character, type of the boat\n",
        " - Manufacturer Character, manufacturer of the boat\n",
        " - Type Character, condition of the boat and engine type(e.g.\n",
        "Diesel, Unleaded, etc.)\n",
        " - Year Built Numeric, year of the boat built\n",
        " - Length Numeric, length in meter of the boat\n",
        " - Width Numeric, width in meter of the boat\n",
        " - Material Character, material of the boat (e.g. GRP, PVC, etc.)\n",
        " - Location Character, location of the boat is listed\n",
        " - Number of views last 7 days Numeric, number of the views of the list last 7 days\n"
      ],
      "metadata": {
        "id": "rsHz4GiDRAj1"
      }
    },
    {
      "cell_type": "code",
      "execution_count": 1,
      "metadata": {
        "id": "Dd18YwmF4R1F"
      },
      "outputs": [],
      "source": [
        "import pandas as pd\n",
        "import matplotlib.pyplot as plt\n",
        "import numpy as np\n",
        "import seaborn as sns"
      ]
    },
    {
      "cell_type": "code",
      "source": [
        "df = pd.read_csv('/content/drive/MyDrive/Datacamp notes/Data Analyst Certification/boat_data.csv')"
      ],
      "metadata": {
        "id": "lx5ajEk-4m6y"
      },
      "execution_count": 2,
      "outputs": []
    },
    {
      "cell_type": "code",
      "source": [
        "df.head()"
      ],
      "metadata": {
        "colab": {
          "base_uri": "https://localhost:8080/",
          "height": 206
        },
        "id": "zPn-8LCsUDpm",
        "outputId": "e053560c-85d7-4d25-a16e-48db7066fbe7"
      },
      "execution_count": 3,
      "outputs": [
        {
          "output_type": "execute_result",
          "data": {
            "text/plain": [
              "       Price            Boat Type          Manufacturer                 Type  \\\n",
              "0   CHF 3337          Motor Yacht  Rigiflex power boats  new boat from stock   \n",
              "1   EUR 3490  Center console boat     Terhi power boats  new boat from stock   \n",
              "2   CHF 3770           Sport Boat    Marine power boats  new boat from stock   \n",
              "3  DKK 25900           Sport Boat    Pioner power boats  new boat from stock   \n",
              "4   EUR 3399         Fishing Boat    Linder power boats  new boat from stock   \n",
              "\n",
              "   Year Built  Length  Width       Material  \\\n",
              "0        2017    4.00   1.90            NaN   \n",
              "1        2020    4.00   1.50  Thermoplastic   \n",
              "2           0    3.69   1.42      Aluminium   \n",
              "3        2020    3.00   1.00            NaN   \n",
              "4        2019    3.55   1.46      Aluminium   \n",
              "\n",
              "                                     Location  Number of views last 7 days  \n",
              "0      Switzerland Â» Lake Geneva Â» VÃ©senaz                          226  \n",
              "1                    Germany Â» BÃ¶nningstedt                           75  \n",
              "2  Switzerland Â» Lake of Zurich Â» StÃ¤fa ZH                          124  \n",
              "3                        Denmark Â» Svendborg                           64  \n",
              "4               Germany Â» Bayern Â» MÃ¼nchen                           58  "
            ],
            "text/html": [
              "\n",
              "  <div id=\"df-a86085d5-005d-4c50-bc9d-bad077131360\">\n",
              "    <div class=\"colab-df-container\">\n",
              "      <div>\n",
              "<style scoped>\n",
              "    .dataframe tbody tr th:only-of-type {\n",
              "        vertical-align: middle;\n",
              "    }\n",
              "\n",
              "    .dataframe tbody tr th {\n",
              "        vertical-align: top;\n",
              "    }\n",
              "\n",
              "    .dataframe thead th {\n",
              "        text-align: right;\n",
              "    }\n",
              "</style>\n",
              "<table border=\"1\" class=\"dataframe\">\n",
              "  <thead>\n",
              "    <tr style=\"text-align: right;\">\n",
              "      <th></th>\n",
              "      <th>Price</th>\n",
              "      <th>Boat Type</th>\n",
              "      <th>Manufacturer</th>\n",
              "      <th>Type</th>\n",
              "      <th>Year Built</th>\n",
              "      <th>Length</th>\n",
              "      <th>Width</th>\n",
              "      <th>Material</th>\n",
              "      <th>Location</th>\n",
              "      <th>Number of views last 7 days</th>\n",
              "    </tr>\n",
              "  </thead>\n",
              "  <tbody>\n",
              "    <tr>\n",
              "      <th>0</th>\n",
              "      <td>CHF 3337</td>\n",
              "      <td>Motor Yacht</td>\n",
              "      <td>Rigiflex power boats</td>\n",
              "      <td>new boat from stock</td>\n",
              "      <td>2017</td>\n",
              "      <td>4.00</td>\n",
              "      <td>1.90</td>\n",
              "      <td>NaN</td>\n",
              "      <td>Switzerland Â» Lake Geneva Â» VÃ©senaz</td>\n",
              "      <td>226</td>\n",
              "    </tr>\n",
              "    <tr>\n",
              "      <th>1</th>\n",
              "      <td>EUR 3490</td>\n",
              "      <td>Center console boat</td>\n",
              "      <td>Terhi power boats</td>\n",
              "      <td>new boat from stock</td>\n",
              "      <td>2020</td>\n",
              "      <td>4.00</td>\n",
              "      <td>1.50</td>\n",
              "      <td>Thermoplastic</td>\n",
              "      <td>Germany Â» BÃ¶nningstedt</td>\n",
              "      <td>75</td>\n",
              "    </tr>\n",
              "    <tr>\n",
              "      <th>2</th>\n",
              "      <td>CHF 3770</td>\n",
              "      <td>Sport Boat</td>\n",
              "      <td>Marine power boats</td>\n",
              "      <td>new boat from stock</td>\n",
              "      <td>0</td>\n",
              "      <td>3.69</td>\n",
              "      <td>1.42</td>\n",
              "      <td>Aluminium</td>\n",
              "      <td>Switzerland Â» Lake of Zurich Â» StÃ¤fa ZH</td>\n",
              "      <td>124</td>\n",
              "    </tr>\n",
              "    <tr>\n",
              "      <th>3</th>\n",
              "      <td>DKK 25900</td>\n",
              "      <td>Sport Boat</td>\n",
              "      <td>Pioner power boats</td>\n",
              "      <td>new boat from stock</td>\n",
              "      <td>2020</td>\n",
              "      <td>3.00</td>\n",
              "      <td>1.00</td>\n",
              "      <td>NaN</td>\n",
              "      <td>Denmark Â» Svendborg</td>\n",
              "      <td>64</td>\n",
              "    </tr>\n",
              "    <tr>\n",
              "      <th>4</th>\n",
              "      <td>EUR 3399</td>\n",
              "      <td>Fishing Boat</td>\n",
              "      <td>Linder power boats</td>\n",
              "      <td>new boat from stock</td>\n",
              "      <td>2019</td>\n",
              "      <td>3.55</td>\n",
              "      <td>1.46</td>\n",
              "      <td>Aluminium</td>\n",
              "      <td>Germany Â» Bayern Â» MÃ¼nchen</td>\n",
              "      <td>58</td>\n",
              "    </tr>\n",
              "  </tbody>\n",
              "</table>\n",
              "</div>\n",
              "      <button class=\"colab-df-convert\" onclick=\"convertToInteractive('df-a86085d5-005d-4c50-bc9d-bad077131360')\"\n",
              "              title=\"Convert this dataframe to an interactive table.\"\n",
              "              style=\"display:none;\">\n",
              "        \n",
              "  <svg xmlns=\"http://www.w3.org/2000/svg\" height=\"24px\"viewBox=\"0 0 24 24\"\n",
              "       width=\"24px\">\n",
              "    <path d=\"M0 0h24v24H0V0z\" fill=\"none\"/>\n",
              "    <path d=\"M18.56 5.44l.94 2.06.94-2.06 2.06-.94-2.06-.94-.94-2.06-.94 2.06-2.06.94zm-11 1L8.5 8.5l.94-2.06 2.06-.94-2.06-.94L8.5 2.5l-.94 2.06-2.06.94zm10 10l.94 2.06.94-2.06 2.06-.94-2.06-.94-.94-2.06-.94 2.06-2.06.94z\"/><path d=\"M17.41 7.96l-1.37-1.37c-.4-.4-.92-.59-1.43-.59-.52 0-1.04.2-1.43.59L10.3 9.45l-7.72 7.72c-.78.78-.78 2.05 0 2.83L4 21.41c.39.39.9.59 1.41.59.51 0 1.02-.2 1.41-.59l7.78-7.78 2.81-2.81c.8-.78.8-2.07 0-2.86zM5.41 20L4 18.59l7.72-7.72 1.47 1.35L5.41 20z\"/>\n",
              "  </svg>\n",
              "      </button>\n",
              "      \n",
              "  <style>\n",
              "    .colab-df-container {\n",
              "      display:flex;\n",
              "      flex-wrap:wrap;\n",
              "      gap: 12px;\n",
              "    }\n",
              "\n",
              "    .colab-df-convert {\n",
              "      background-color: #E8F0FE;\n",
              "      border: none;\n",
              "      border-radius: 50%;\n",
              "      cursor: pointer;\n",
              "      display: none;\n",
              "      fill: #1967D2;\n",
              "      height: 32px;\n",
              "      padding: 0 0 0 0;\n",
              "      width: 32px;\n",
              "    }\n",
              "\n",
              "    .colab-df-convert:hover {\n",
              "      background-color: #E2EBFA;\n",
              "      box-shadow: 0px 1px 2px rgba(60, 64, 67, 0.3), 0px 1px 3px 1px rgba(60, 64, 67, 0.15);\n",
              "      fill: #174EA6;\n",
              "    }\n",
              "\n",
              "    [theme=dark] .colab-df-convert {\n",
              "      background-color: #3B4455;\n",
              "      fill: #D2E3FC;\n",
              "    }\n",
              "\n",
              "    [theme=dark] .colab-df-convert:hover {\n",
              "      background-color: #434B5C;\n",
              "      box-shadow: 0px 1px 3px 1px rgba(0, 0, 0, 0.15);\n",
              "      filter: drop-shadow(0px 1px 2px rgba(0, 0, 0, 0.3));\n",
              "      fill: #FFFFFF;\n",
              "    }\n",
              "  </style>\n",
              "\n",
              "      <script>\n",
              "        const buttonEl =\n",
              "          document.querySelector('#df-a86085d5-005d-4c50-bc9d-bad077131360 button.colab-df-convert');\n",
              "        buttonEl.style.display =\n",
              "          google.colab.kernel.accessAllowed ? 'block' : 'none';\n",
              "\n",
              "        async function convertToInteractive(key) {\n",
              "          const element = document.querySelector('#df-a86085d5-005d-4c50-bc9d-bad077131360');\n",
              "          const dataTable =\n",
              "            await google.colab.kernel.invokeFunction('convertToInteractive',\n",
              "                                                     [key], {});\n",
              "          if (!dataTable) return;\n",
              "\n",
              "          const docLinkHtml = 'Like what you see? Visit the ' +\n",
              "            '<a target=\"_blank\" href=https://colab.research.google.com/notebooks/data_table.ipynb>data table notebook</a>'\n",
              "            + ' to learn more about interactive tables.';\n",
              "          element.innerHTML = '';\n",
              "          dataTable['output_type'] = 'display_data';\n",
              "          await google.colab.output.renderOutput(dataTable, element);\n",
              "          const docLink = document.createElement('div');\n",
              "          docLink.innerHTML = docLinkHtml;\n",
              "          element.appendChild(docLink);\n",
              "        }\n",
              "      </script>\n",
              "    </div>\n",
              "  </div>\n",
              "  "
            ]
          },
          "metadata": {},
          "execution_count": 3
        }
      ]
    },
    {
      "cell_type": "code",
      "source": [
        "df.info()"
      ],
      "metadata": {
        "colab": {
          "base_uri": "https://localhost:8080/"
        },
        "id": "nzSvzLOxkJa3",
        "outputId": "053de9cc-862b-4041-8c7c-f6f1fedc18b7"
      },
      "execution_count": 4,
      "outputs": [
        {
          "output_type": "stream",
          "name": "stdout",
          "text": [
            "<class 'pandas.core.frame.DataFrame'>\n",
            "RangeIndex: 9888 entries, 0 to 9887\n",
            "Data columns (total 10 columns):\n",
            " #   Column                       Non-Null Count  Dtype  \n",
            "---  ------                       --------------  -----  \n",
            " 0   Price                        9888 non-null   object \n",
            " 1   Boat Type                    9888 non-null   object \n",
            " 2   Manufacturer                 8550 non-null   object \n",
            " 3   Type                         9882 non-null   object \n",
            " 4   Year Built                   9888 non-null   int64  \n",
            " 5   Length                       9879 non-null   float64\n",
            " 6   Width                        9832 non-null   float64\n",
            " 7   Material                     8139 non-null   object \n",
            " 8   Location                     9852 non-null   object \n",
            " 9   Number of views last 7 days  9888 non-null   int64  \n",
            "dtypes: float64(2), int64(2), object(6)\n",
            "memory usage: 772.6+ KB\n"
          ]
        }
      ]
    },
    {
      "cell_type": "code",
      "source": [
        "df.isna().sum()"
      ],
      "metadata": {
        "colab": {
          "base_uri": "https://localhost:8080/"
        },
        "id": "1PNIL5ZrULKS",
        "outputId": "4c1a9bb5-75d6-4538-cfcb-c3c7d46ec002"
      },
      "execution_count": 5,
      "outputs": [
        {
          "output_type": "execute_result",
          "data": {
            "text/plain": [
              "Price                             0\n",
              "Boat Type                         0\n",
              "Manufacturer                   1338\n",
              "Type                              6\n",
              "Year Built                        0\n",
              "Length                            9\n",
              "Width                            56\n",
              "Material                       1749\n",
              "Location                         36\n",
              "Number of views last 7 days       0\n",
              "dtype: int64"
            ]
          },
          "metadata": {},
          "execution_count": 5
        }
      ]
    },
    {
      "cell_type": "markdown",
      "source": [
        "We see we have nulll values so we will work with them:\n",
        " - Manufacturer and Material are text type so we can drop these rows\n",
        " - Lenght and Width as they are numbers we can replace the values with the mean or median"
      ],
      "metadata": {
        "id": "FKlg_lVSnQJ_"
      }
    },
    {
      "cell_type": "code",
      "source": [
        "sns.boxplot(x='Length',data=df)\n",
        "plt.show()"
      ],
      "metadata": {
        "colab": {
          "base_uri": "https://localhost:8080/",
          "height": 279
        },
        "id": "_GMR9qO3mb_J",
        "outputId": "d970e678-d9de-4765-82ea-d1c7050d6c15"
      },
      "execution_count": 6,
      "outputs": [
        {
          "output_type": "display_data",
          "data": {
            "text/plain": [
              "<Figure size 432x288 with 1 Axes>"
            ],
            "image/png": "[encoded data removed]"
          },
          "metadata": {
            "needs_background": "light"
          }
        }
      ]
    },
    {
      "cell_type": "code",
      "source": [
        "sns.boxplot(x='Width',data=df)\n",
        "plt.show()"
      ],
      "metadata": {
        "colab": {
          "base_uri": "https://localhost:8080/",
          "height": 279
        },
        "id": "3aZwobWfmpOR",
        "outputId": "9890acec-93af-40e1-afdb-81e2aa03210f"
      },
      "execution_count": 7,
      "outputs": [
        {
          "output_type": "display_data",
          "data": {
            "text/plain": [
              "<Figure size 432x288 with 1 Axes>"
            ],
            "image/png": "[encoded data removed]"
          },
          "metadata": {
            "needs_background": "light"
          }
        }
      ]
    },
    {
      "cell_type": "markdown",
      "source": [
        "We see in both cases there are a lot of outliers so so replace the null values the mean is not the best value, so we will chose the median"
      ],
      "metadata": {
        "id": "K1QQcbmbmwga"
      }
    },
    {
      "cell_type": "code",
      "source": [
        "df['Length'] = df['Length'].fillna(df['Length'].median())\n",
        "df['Width'] = df['Width'].fillna(df['Width'].median())"
      ],
      "metadata": {
        "id": "nl4AgT8AnB_K"
      },
      "execution_count": 8,
      "outputs": []
    },
    {
      "cell_type": "code",
      "source": [
        "df = df.dropna()"
      ],
      "metadata": {
        "id": "vNAszc5Hnm_j"
      },
      "execution_count": 9,
      "outputs": []
    },
    {
      "cell_type": "code",
      "source": [
        "df.isnull().sum()"
      ],
      "metadata": {
        "colab": {
          "base_uri": "https://localhost:8080/"
        },
        "id": "L-BBeeXUnqgc",
        "outputId": "5c8f0452-1d4a-4d6f-89b5-f5e41397f60e"
      },
      "execution_count": 10,
      "outputs": [
        {
          "output_type": "execute_result",
          "data": {
            "text/plain": [
              "Price                          0\n",
              "Boat Type                      0\n",
              "Manufacturer                   0\n",
              "Type                           0\n",
              "Year Built                     0\n",
              "Length                         0\n",
              "Width                          0\n",
              "Material                       0\n",
              "Location                       0\n",
              "Number of views last 7 days    0\n",
              "dtype: int64"
            ]
          },
          "metadata": {},
          "execution_count": 10
        }
      ]
    },
    {
      "cell_type": "markdown",
      "source": [
        "Now that we don't have more nulls we continue"
      ],
      "metadata": {
        "id": "_6GNaz7_nt47"
      }
    },
    {
      "cell_type": "markdown",
      "source": [
        "As we have a column that says the price and currency we will split them into two columns and then change them all to one currency"
      ],
      "metadata": {
        "id": "C23ttvnlktgI"
      }
    },
    {
      "cell_type": "code",
      "source": [
        "new = df['Price'].str.split(' ',n=1,expand=True)\n",
        "df['Currency'] = new[0]\n",
        "df['Price Value'] = new[1]\n",
        "df['Price Value'] =pd.to_numeric(df['Price Value']) "
      ],
      "metadata": {
        "id": "lUzQ8djiDd4n",
        "colab": {
          "base_uri": "https://localhost:8080/"
        },
        "outputId": "280e6bde-db59-4890-af85-d1b62b71dddd"
      },
      "execution_count": 11,
      "outputs": [
        {
          "output_type": "stream",
          "name": "stderr",
          "text": [
            "<ipython-input-11-d55ade23a19f>:2: SettingWithCopyWarning: \n",
            "A value is trying to be set on a copy of a slice from a DataFrame.\n",
            "Try using .loc[row_indexer,col_indexer] = value instead\n",
            "\n",
            "See the caveats in the documentation: https://pandas.pydata.org/pandas-docs/stable/user_guide/indexing.html#returning-a-view-versus-a-copy\n",
            "  df['Currency'] = new[0]\n"
          ]
        }
      ]
    },
    {
      "cell_type": "code",
      "source": [
        "df['Currency'].value_counts()"
      ],
      "metadata": {
        "colab": {
          "base_uri": "https://localhost:8080/"
        },
        "id": "F8YAofHa4t8O",
        "outputId": "94d60a8c-c86e-4c9d-f7a7-d935a68cabd7"
      },
      "execution_count": 12,
      "outputs": [
        {
          "output_type": "execute_result",
          "data": {
            "text/plain": [
              "EUR    5867\n",
              "CHF     884\n",
              "Â£      218\n",
              "DKK      68\n",
              "Name: Currency, dtype: int64"
            ]
          },
          "metadata": {},
          "execution_count": 12
        }
      ]
    },
    {
      "cell_type": "markdown",
      "source": [
        "We see we have 4 different currencies so we will change them into EUR to simplify our problem"
      ],
      "metadata": {
        "id": "ibAWNNpwk66i"
      }
    },
    {
      "cell_type": "code",
      "source": [
        "df.loc[df['Currency'] == 'CHF', 'Price Value'] = df['Price Value']*0.96\n",
        "df.loc[df['Currency'] == 'Â£', 'Price Value'] = df['Price Value']*1.20\n",
        "df.loc[df['Currency'] == 'DKK', 'Price Value'] = df['Price Value']*0.13"
      ],
      "metadata": {
        "id": "qztVOTktFC1W"
      },
      "execution_count": 13,
      "outputs": []
    },
    {
      "cell_type": "markdown",
      "source": [
        "When working with text variables Capitalization is sometimes a problem so we will change them all into lower cases"
      ],
      "metadata": {
        "id": "JVWI7amUlFxD"
      }
    },
    {
      "cell_type": "code",
      "source": [
        "df['Boat Type'] = df[\"Boat Type\"].str.lower() "
      ],
      "metadata": {
        "id": "VgAE7bMO5Qra"
      },
      "execution_count": 14,
      "outputs": []
    },
    {
      "cell_type": "code",
      "source": [
        "df['Location'] = df['Location'].str.lower()"
      ],
      "metadata": {
        "id": "17yiLcWm5Tw8"
      },
      "execution_count": 15,
      "outputs": []
    },
    {
      "cell_type": "code",
      "source": [
        "df['Type'] = df[\"Type\"].str.lower() "
      ],
      "metadata": {
        "id": "Xp_Gyzgt5sqG"
      },
      "execution_count": 16,
      "outputs": []
    },
    {
      "cell_type": "code",
      "source": [
        "df['Manufacturer'] = df[\"Manufacturer\"].str.lower() "
      ],
      "metadata": {
        "id": "nM2Us8rmlq5i"
      },
      "execution_count": 17,
      "outputs": []
    },
    {
      "cell_type": "code",
      "source": [
        "df['Material'] = df[\"Material\"].str.lower() "
      ],
      "metadata": {
        "id": "vyug3c8Tl4Gs"
      },
      "execution_count": 18,
      "outputs": []
    },
    {
      "cell_type": "code",
      "source": [
        "df.describe()"
      ],
      "metadata": {
        "colab": {
          "base_uri": "https://localhost:8080/",
          "height": 300
        },
        "id": "ws0Z64ERRPQ5",
        "outputId": "8227c1f5-81e5-493f-96d4-fa2e6368cd5f"
      },
      "execution_count": 19,
      "outputs": [
        {
          "output_type": "execute_result",
          "data": {
            "text/plain": [
              "        Year Built       Length        Width  Number of views last 7 days  \\\n",
              "count  7037.000000  7037.000000  7037.000000                  7037.000000   \n",
              "mean   1884.139548    11.035377     3.432845                   160.098479   \n",
              "std     480.858536     5.139634     1.118345                   167.114607   \n",
              "min       0.000000     1.980000     0.860000                    13.000000   \n",
              "25%    1998.000000     7.300000     2.540000                    72.000000   \n",
              "50%    2008.000000     9.950000     3.200000                   112.000000   \n",
              "75%    2018.000000    13.500000     4.180000                   186.000000   \n",
              "max    2021.000000    56.000000    16.000000                  3263.000000   \n",
              "\n",
              "        Price Value  \n",
              "count  7.037000e+03  \n",
              "mean   2.695101e+05  \n",
              "std    7.281498e+05  \n",
              "min    3.340800e+03  \n",
              "25%    4.300000e+04  \n",
              "50%    8.950000e+04  \n",
              "75%    2.400000e+05  \n",
              "max    2.350000e+07  "
            ],
            "text/html": [
              "\n",
              "  <div id=\"df-3d2c2b40-96aa-421a-bb19-fe356fce26e4\">\n",
              "    <div class=\"colab-df-container\">\n",
              "      <div>\n",
              "<style scoped>\n",
              "    .dataframe tbody tr th:only-of-type {\n",
              "        vertical-align: middle;\n",
              "    }\n",
              "\n",
              "    .dataframe tbody tr th {\n",
              "        vertical-align: top;\n",
              "    }\n",
              "\n",
              "    .dataframe thead th {\n",
              "        text-align: right;\n",
              "    }\n",
              "</style>\n",
              "<table border=\"1\" class=\"dataframe\">\n",
              "  <thead>\n",
              "    <tr style=\"text-align: right;\">\n",
              "      <th></th>\n",
              "      <th>Year Built</th>\n",
              "      <th>Length</th>\n",
              "      <th>Width</th>\n",
              "      <th>Number of views last 7 days</th>\n",
              "      <th>Price Value</th>\n",
              "    </tr>\n",
              "  </thead>\n",
              "  <tbody>\n",
              "    <tr>\n",
              "      <th>count</th>\n",
              "      <td>7037.000000</td>\n",
              "      <td>7037.000000</td>\n",
              "      <td>7037.000000</td>\n",
              "      <td>7037.000000</td>\n",
              "      <td>7.037000e+03</td>\n",
              "    </tr>\n",
              "    <tr>\n",
              "      <th>mean</th>\n",
              "      <td>1884.139548</td>\n",
              "      <td>11.035377</td>\n",
              "      <td>3.432845</td>\n",
              "      <td>160.098479</td>\n",
              "      <td>2.695101e+05</td>\n",
              "    </tr>\n",
              "    <tr>\n",
              "      <th>std</th>\n",
              "      <td>480.858536</td>\n",
              "      <td>5.139634</td>\n",
              "      <td>1.118345</td>\n",
              "      <td>167.114607</td>\n",
              "      <td>7.281498e+05</td>\n",
              "    </tr>\n",
              "    <tr>\n",
              "      <th>min</th>\n",
              "      <td>0.000000</td>\n",
              "      <td>1.980000</td>\n",
              "      <td>0.860000</td>\n",
              "      <td>13.000000</td>\n",
              "      <td>3.340800e+03</td>\n",
              "    </tr>\n",
              "    <tr>\n",
              "      <th>25%</th>\n",
              "      <td>1998.000000</td>\n",
              "      <td>7.300000</td>\n",
              "      <td>2.540000</td>\n",
              "      <td>72.000000</td>\n",
              "      <td>4.300000e+04</td>\n",
              "    </tr>\n",
              "    <tr>\n",
              "      <th>50%</th>\n",
              "      <td>2008.000000</td>\n",
              "      <td>9.950000</td>\n",
              "      <td>3.200000</td>\n",
              "      <td>112.000000</td>\n",
              "      <td>8.950000e+04</td>\n",
              "    </tr>\n",
              "    <tr>\n",
              "      <th>75%</th>\n",
              "      <td>2018.000000</td>\n",
              "      <td>13.500000</td>\n",
              "      <td>4.180000</td>\n",
              "      <td>186.000000</td>\n",
              "      <td>2.400000e+05</td>\n",
              "    </tr>\n",
              "    <tr>\n",
              "      <th>max</th>\n",
              "      <td>2021.000000</td>\n",
              "      <td>56.000000</td>\n",
              "      <td>16.000000</td>\n",
              "      <td>3263.000000</td>\n",
              "      <td>2.350000e+07</td>\n",
              "    </tr>\n",
              "  </tbody>\n",
              "</table>\n",
              "</div>\n",
              "      <button class=\"colab-df-convert\" onclick=\"convertToInteractive('df-3d2c2b40-96aa-421a-bb19-fe356fce26e4')\"\n",
              "              title=\"Convert this dataframe to an interactive table.\"\n",
              "              style=\"display:none;\">\n",
              "        \n",
              "  <svg xmlns=\"http://www.w3.org/2000/svg\" height=\"24px\"viewBox=\"0 0 24 24\"\n",
              "       width=\"24px\">\n",
              "    <path d=\"M0 0h24v24H0V0z\" fill=\"none\"/>\n",
              "    <path d=\"M18.56 5.44l.94 2.06.94-2.06 2.06-.94-2.06-.94-.94-2.06-.94 2.06-2.06.94zm-11 1L8.5 8.5l.94-2.06 2.06-.94-2.06-.94L8.5 2.5l-.94 2.06-2.06.94zm10 10l.94 2.06.94-2.06 2.06-.94-2.06-.94-.94-2.06-.94 2.06-2.06.94z\"/><path d=\"M17.41 7.96l-1.37-1.37c-.4-.4-.92-.59-1.43-.59-.52 0-1.04.2-1.43.59L10.3 9.45l-7.72 7.72c-.78.78-.78 2.05 0 2.83L4 21.41c.39.39.9.59 1.41.59.51 0 1.02-.2 1.41-.59l7.78-7.78 2.81-2.81c.8-.78.8-2.07 0-2.86zM5.41 20L4 18.59l7.72-7.72 1.47 1.35L5.41 20z\"/>\n",
              "  </svg>\n",
              "      </button>\n",
              "      \n",
              "  <style>\n",
              "    .colab-df-container {\n",
              "      display:flex;\n",
              "      flex-wrap:wrap;\n",
              "      gap: 12px;\n",
              "    }\n",
              "\n",
              "    .colab-df-convert {\n",
              "      background-color: #E8F0FE;\n",
              "      border: none;\n",
              "      border-radius: 50%;\n",
              "      cursor: pointer;\n",
              "      display: none;\n",
              "      fill: #1967D2;\n",
              "      height: 32px;\n",
              "      padding: 0 0 0 0;\n",
              "      width: 32px;\n",
              "    }\n",
              "\n",
              "    .colab-df-convert:hover {\n",
              "      background-color: #E2EBFA;\n",
              "      box-shadow: 0px 1px 2px rgba(60, 64, 67, 0.3), 0px 1px 3px 1px rgba(60, 64, 67, 0.15);\n",
              "      fill: #174EA6;\n",
              "    }\n",
              "\n",
              "    [theme=dark] .colab-df-convert {\n",
              "      background-color: #3B4455;\n",
              "      fill: #D2E3FC;\n",
              "    }\n",
              "\n",
              "    [theme=dark] .colab-df-convert:hover {\n",
              "      background-color: #434B5C;\n",
              "      box-shadow: 0px 1px 3px 1px rgba(0, 0, 0, 0.15);\n",
              "      filter: drop-shadow(0px 1px 2px rgba(0, 0, 0, 0.3));\n",
              "      fill: #FFFFFF;\n",
              "    }\n",
              "  </style>\n",
              "\n",
              "      <script>\n",
              "        const buttonEl =\n",
              "          document.querySelector('#df-3d2c2b40-96aa-421a-bb19-fe356fce26e4 button.colab-df-convert');\n",
              "        buttonEl.style.display =\n",
              "          google.colab.kernel.accessAllowed ? 'block' : 'none';\n",
              "\n",
              "        async function convertToInteractive(key) {\n",
              "          const element = document.querySelector('#df-3d2c2b40-96aa-421a-bb19-fe356fce26e4');\n",
              "          const dataTable =\n",
              "            await google.colab.kernel.invokeFunction('convertToInteractive',\n",
              "                                                     [key], {});\n",
              "          if (!dataTable) return;\n",
              "\n",
              "          const docLinkHtml = 'Like what you see? Visit the ' +\n",
              "            '<a target=\"_blank\" href=https://colab.research.google.com/notebooks/data_table.ipynb>data table notebook</a>'\n",
              "            + ' to learn more about interactive tables.';\n",
              "          element.innerHTML = '';\n",
              "          dataTable['output_type'] = 'display_data';\n",
              "          await google.colab.output.renderOutput(dataTable, element);\n",
              "          const docLink = document.createElement('div');\n",
              "          docLink.innerHTML = docLinkHtml;\n",
              "          element.appendChild(docLink);\n",
              "        }\n",
              "      </script>\n",
              "    </div>\n",
              "  </div>\n",
              "  "
            ]
          },
          "metadata": {},
          "execution_count": 19
        }
      ]
    },
    {
      "cell_type": "markdown",
      "source": [
        "We will also get rid of boats buitl in the year 0"
      ],
      "metadata": {
        "id": "G7R5tjM4OCTk"
      }
    },
    {
      "cell_type": "code",
      "source": [
        "df = df[df['Year Built']!=0]"
      ],
      "metadata": {
        "id": "s62Imj4iJhvT"
      },
      "execution_count": 20,
      "outputs": []
    },
    {
      "cell_type": "markdown",
      "source": [
        "Now we wil filter our results and create a new table that contains the most viewed boats"
      ],
      "metadata": {
        "id": "Wr9ZPlWNOI3a"
      }
    },
    {
      "cell_type": "code",
      "source": [
        "most_viewed = df[df['Number of views last 7 days'] > 650].sort_values('Number of views last 7 days', ascending=False)\n",
        "display(most_viewed.shape)"
      ],
      "metadata": {
        "colab": {
          "base_uri": "https://localhost:8080/",
          "height": 34
        },
        "id": "kbqIwoGNphjt",
        "outputId": "b348e0f1-7b30-4cde-b684-7b07eb70bef1"
      },
      "execution_count": 21,
      "outputs": [
        {
          "output_type": "display_data",
          "data": {
            "text/plain": [
              "(129, 12)"
            ]
          },
          "metadata": {}
        }
      ]
    },
    {
      "cell_type": "code",
      "source": [
        "a = most_viewed[['Boat Type','Manufacturer','Type','Year Built','Length','Width','Material','Location','Number of views last 7 days','Price Value']]\n",
        "a.head(10)"
      ],
      "metadata": {
        "colab": {
          "base_uri": "https://localhost:8080/",
          "height": 581
        },
        "id": "x3HlguOhqUCU",
        "outputId": "b1a0c0df-246a-4f9e-dfe5-0e03c28be6d9"
      },
      "execution_count": 22,
      "outputs": [
        {
          "output_type": "execute_result",
          "data": {
            "text/plain": [
              "                                    Boat Type               Manufacturer  \\\n",
              "9580                              motor yacht       bayliner power boats   \n",
              "8723                                  hardtop       princess power boats   \n",
              "6211          bowrider,motor yacht,sport boat          windy power boats   \n",
              "3700                                  hardtop       pershing power boats   \n",
              "308                                sport boat        sea ray power boats   \n",
              "894                                cabin boat          viper power boats   \n",
              "9878  sport boat,wakeboard/wakesurf,water ski  tullio abbate power boats   \n",
              "8684                               sport boat  correct craft power boats   \n",
              "9843                               sport boat           baha power boats   \n",
              "35                                 cabin boat          draco power boats   \n",
              "\n",
              "                    Type  Year Built  Length  Width Material  \\\n",
              "9580  used boat,unleaded        1992    7.70   2.46  plastic   \n",
              "8723    used boat,diesel        1979   11.12   3.88      grp   \n",
              "6211    used boat,diesel        2002   12.35   3.48      grp   \n",
              "3700    used boat,diesel        2009   20.30   5.20      grp   \n",
              "308   used boat,unleaded        1993    6.14   2.34  plastic   \n",
              "894   used boat,unleaded        2014    6.65   2.30      grp   \n",
              "9878  used boat,unleaded        1980    6.00   2.10      grp   \n",
              "8684  used boat,unleaded        2005    6.40   2.31      grp   \n",
              "9843  used boat,unleaded        1995    6.80   2.38      grp   \n",
              "35    used boat,unleaded        1980    6.20   2.45      grp   \n",
              "\n",
              "                                           Location  \\\n",
              "9580                switzerland â» le landeron (ne)   \n",
              "8723     switzerland â» neuenburgersee â» hauterive   \n",
              "6211  switzerland â» lago maggiore â» 6600 locarno    \n",
              "3700                  neustadt in holstein (ostsee)   \n",
              "308            switzerland â» murtensee â» avenches   \n",
              "894                            switzerland â» horn    \n",
              "9878          switzerland â» lake of zurich â» rafz   \n",
              "8684         switzerland â» lago maggiore â» ticino   \n",
              "9843                                           thun   \n",
              "35            switzerland â» walensee â» walenstadt   \n",
              "\n",
              "      Number of views last 7 days  Price Value  \n",
              "9580                         3263     14304.00  \n",
              "8723                         2432     33600.00  \n",
              "6211                         2261    120864.00  \n",
              "3700                         2154    949000.00  \n",
              "308                          2026     19104.00  \n",
              "894                          1970     46560.00  \n",
              "9878                         1917      4799.04  \n",
              "8684                         1834     34560.00  \n",
              "9843                         1831      6240.00  \n",
              "35                           1804      3648.00  "
            ],
            "text/html": [
              "\n",
              "  <div id=\"df-b8742a29-695e-458a-a441-50b924f3c2d9\">\n",
              "    <div class=\"colab-df-container\">\n",
              "      <div>\n",
              "<style scoped>\n",
              "    .dataframe tbody tr th:only-of-type {\n",
              "        vertical-align: middle;\n",
              "    }\n",
              "\n",
              "    .dataframe tbody tr th {\n",
              "        vertical-align: top;\n",
              "    }\n",
              "\n",
              "    .dataframe thead th {\n",
              "        text-align: right;\n",
              "    }\n",
              "</style>\n",
              "<table border=\"1\" class=\"dataframe\">\n",
              "  <thead>\n",
              "    <tr style=\"text-align: right;\">\n",
              "      <th></th>\n",
              "      <th>Boat Type</th>\n",
              "      <th>Manufacturer</th>\n",
              "      <th>Type</th>\n",
              "      <th>Year Built</th>\n",
              "      <th>Length</th>\n",
              "      <th>Width</th>\n",
              "      <th>Material</th>\n",
              "      <th>Location</th>\n",
              "      <th>Number of views last 7 days</th>\n",
              "      <th>Price Value</th>\n",
              "    </tr>\n",
              "  </thead>\n",
              "  <tbody>\n",
              "    <tr>\n",
              "      <th>9580</th>\n",
              "      <td>motor yacht</td>\n",
              "      <td>bayliner power boats</td>\n",
              "      <td>used boat,unleaded</td>\n",
              "      <td>1992</td>\n",
              "      <td>7.70</td>\n",
              "      <td>2.46</td>\n",
              "      <td>plastic</td>\n",
              "      <td>switzerland â» le landeron (ne)</td>\n",
              "      <td>3263</td>\n",
              "      <td>14304.00</td>\n",
              "    </tr>\n",
              "    <tr>\n",
              "      <th>8723</th>\n",
              "      <td>hardtop</td>\n",
              "      <td>princess power boats</td>\n",
              "      <td>used boat,diesel</td>\n",
              "      <td>1979</td>\n",
              "      <td>11.12</td>\n",
              "      <td>3.88</td>\n",
              "      <td>grp</td>\n",
              "      <td>switzerland â» neuenburgersee â» hauterive</td>\n",
              "      <td>2432</td>\n",
              "      <td>33600.00</td>\n",
              "    </tr>\n",
              "    <tr>\n",
              "      <th>6211</th>\n",
              "      <td>bowrider,motor yacht,sport boat</td>\n",
              "      <td>windy power boats</td>\n",
              "      <td>used boat,diesel</td>\n",
              "      <td>2002</td>\n",
              "      <td>12.35</td>\n",
              "      <td>3.48</td>\n",
              "      <td>grp</td>\n",
              "      <td>switzerland â» lago maggiore â» 6600 locarno</td>\n",
              "      <td>2261</td>\n",
              "      <td>120864.00</td>\n",
              "    </tr>\n",
              "    <tr>\n",
              "      <th>3700</th>\n",
              "      <td>hardtop</td>\n",
              "      <td>pershing power boats</td>\n",
              "      <td>used boat,diesel</td>\n",
              "      <td>2009</td>\n",
              "      <td>20.30</td>\n",
              "      <td>5.20</td>\n",
              "      <td>grp</td>\n",
              "      <td>neustadt in holstein (ostsee)</td>\n",
              "      <td>2154</td>\n",
              "      <td>949000.00</td>\n",
              "    </tr>\n",
              "    <tr>\n",
              "      <th>308</th>\n",
              "      <td>sport boat</td>\n",
              "      <td>sea ray power boats</td>\n",
              "      <td>used boat,unleaded</td>\n",
              "      <td>1993</td>\n",
              "      <td>6.14</td>\n",
              "      <td>2.34</td>\n",
              "      <td>plastic</td>\n",
              "      <td>switzerland â» murtensee â» avenches</td>\n",
              "      <td>2026</td>\n",
              "      <td>19104.00</td>\n",
              "    </tr>\n",
              "    <tr>\n",
              "      <th>894</th>\n",
              "      <td>cabin boat</td>\n",
              "      <td>viper power boats</td>\n",
              "      <td>used boat,unleaded</td>\n",
              "      <td>2014</td>\n",
              "      <td>6.65</td>\n",
              "      <td>2.30</td>\n",
              "      <td>grp</td>\n",
              "      <td>switzerland â» horn</td>\n",
              "      <td>1970</td>\n",
              "      <td>46560.00</td>\n",
              "    </tr>\n",
              "    <tr>\n",
              "      <th>9878</th>\n",
              "      <td>sport boat,wakeboard/wakesurf,water ski</td>\n",
              "      <td>tullio abbate power boats</td>\n",
              "      <td>used boat,unleaded</td>\n",
              "      <td>1980</td>\n",
              "      <td>6.00</td>\n",
              "      <td>2.10</td>\n",
              "      <td>grp</td>\n",
              "      <td>switzerland â» lake of zurich â» rafz</td>\n",
              "      <td>1917</td>\n",
              "      <td>4799.04</td>\n",
              "    </tr>\n",
              "    <tr>\n",
              "      <th>8684</th>\n",
              "      <td>sport boat</td>\n",
              "      <td>correct craft power boats</td>\n",
              "      <td>used boat,unleaded</td>\n",
              "      <td>2005</td>\n",
              "      <td>6.40</td>\n",
              "      <td>2.31</td>\n",
              "      <td>grp</td>\n",
              "      <td>switzerland â» lago maggiore â» ticino</td>\n",
              "      <td>1834</td>\n",
              "      <td>34560.00</td>\n",
              "    </tr>\n",
              "    <tr>\n",
              "      <th>9843</th>\n",
              "      <td>sport boat</td>\n",
              "      <td>baha power boats</td>\n",
              "      <td>used boat,unleaded</td>\n",
              "      <td>1995</td>\n",
              "      <td>6.80</td>\n",
              "      <td>2.38</td>\n",
              "      <td>grp</td>\n",
              "      <td>thun</td>\n",
              "      <td>1831</td>\n",
              "      <td>6240.00</td>\n",
              "    </tr>\n",
              "    <tr>\n",
              "      <th>35</th>\n",
              "      <td>cabin boat</td>\n",
              "      <td>draco power boats</td>\n",
              "      <td>used boat,unleaded</td>\n",
              "      <td>1980</td>\n",
              "      <td>6.20</td>\n",
              "      <td>2.45</td>\n",
              "      <td>grp</td>\n",
              "      <td>switzerland â» walensee â» walenstadt</td>\n",
              "      <td>1804</td>\n",
              "      <td>3648.00</td>\n",
              "    </tr>\n",
              "  </tbody>\n",
              "</table>\n",
              "</div>\n",
              "      <button class=\"colab-df-convert\" onclick=\"convertToInteractive('df-b8742a29-695e-458a-a441-50b924f3c2d9')\"\n",
              "              title=\"Convert this dataframe to an interactive table.\"\n",
              "              style=\"display:none;\">\n",
              "        \n",
              "  <svg xmlns=\"http://www.w3.org/2000/svg\" height=\"24px\"viewBox=\"0 0 24 24\"\n",
              "       width=\"24px\">\n",
              "    <path d=\"M0 0h24v24H0V0z\" fill=\"none\"/>\n",
              "    <path d=\"M18.56 5.44l.94 2.06.94-2.06 2.06-.94-2.06-.94-.94-2.06-.94 2.06-2.06.94zm-11 1L8.5 8.5l.94-2.06 2.06-.94-2.06-.94L8.5 2.5l-.94 2.06-2.06.94zm10 10l.94 2.06.94-2.06 2.06-.94-2.06-.94-.94-2.06-.94 2.06-2.06.94z\"/><path d=\"M17.41 7.96l-1.37-1.37c-.4-.4-.92-.59-1.43-.59-.52 0-1.04.2-1.43.59L10.3 9.45l-7.72 7.72c-.78.78-.78 2.05 0 2.83L4 21.41c.39.39.9.59 1.41.59.51 0 1.02-.2 1.41-.59l7.78-7.78 2.81-2.81c.8-.78.8-2.07 0-2.86zM5.41 20L4 18.59l7.72-7.72 1.47 1.35L5.41 20z\"/>\n",
              "  </svg>\n",
              "      </button>\n",
              "      \n",
              "  <style>\n",
              "    .colab-df-container {\n",
              "      display:flex;\n",
              "      flex-wrap:wrap;\n",
              "      gap: 12px;\n",
              "    }\n",
              "\n",
              "    .colab-df-convert {\n",
              "      background-color: #E8F0FE;\n",
              "      border: none;\n",
              "      border-radius: 50%;\n",
              "      cursor: pointer;\n",
              "      display: none;\n",
              "      fill: #1967D2;\n",
              "      height: 32px;\n",
              "      padding: 0 0 0 0;\n",
              "      width: 32px;\n",
              "    }\n",
              "\n",
              "    .colab-df-convert:hover {\n",
              "      background-color: #E2EBFA;\n",
              "      box-shadow: 0px 1px 2px rgba(60, 64, 67, 0.3), 0px 1px 3px 1px rgba(60, 64, 67, 0.15);\n",
              "      fill: #174EA6;\n",
              "    }\n",
              "\n",
              "    [theme=dark] .colab-df-convert {\n",
              "      background-color: #3B4455;\n",
              "      fill: #D2E3FC;\n",
              "    }\n",
              "\n",
              "    [theme=dark] .colab-df-convert:hover {\n",
              "      background-color: #434B5C;\n",
              "      box-shadow: 0px 1px 3px 1px rgba(0, 0, 0, 0.15);\n",
              "      filter: drop-shadow(0px 1px 2px rgba(0, 0, 0, 0.3));\n",
              "      fill: #FFFFFF;\n",
              "    }\n",
              "  </style>\n",
              "\n",
              "      <script>\n",
              "        const buttonEl =\n",
              "          document.querySelector('#df-b8742a29-695e-458a-a441-50b924f3c2d9 button.colab-df-convert');\n",
              "        buttonEl.style.display =\n",
              "          google.colab.kernel.accessAllowed ? 'block' : 'none';\n",
              "\n",
              "        async function convertToInteractive(key) {\n",
              "          const element = document.querySelector('#df-b8742a29-695e-458a-a441-50b924f3c2d9');\n",
              "          const dataTable =\n",
              "            await google.colab.kernel.invokeFunction('convertToInteractive',\n",
              "                                                     [key], {});\n",
              "          if (!dataTable) return;\n",
              "\n",
              "          const docLinkHtml = 'Like what you see? Visit the ' +\n",
              "            '<a target=\"_blank\" href=https://colab.research.google.com/notebooks/data_table.ipynb>data table notebook</a>'\n",
              "            + ' to learn more about interactive tables.';\n",
              "          element.innerHTML = '';\n",
              "          dataTable['output_type'] = 'display_data';\n",
              "          await google.colab.output.renderOutput(dataTable, element);\n",
              "          const docLink = document.createElement('div');\n",
              "          docLink.innerHTML = docLinkHtml;\n",
              "          element.appendChild(docLink);\n",
              "        }\n",
              "      </script>\n",
              "    </div>\n",
              "  </div>\n",
              "  "
            ]
          },
          "metadata": {},
          "execution_count": 22
        }
      ]
    },
    {
      "cell_type": "markdown",
      "source": [
        "We can see easily in our top ten that the most viewed it's not the most expensive, the most viewed it's cheaper that the second most viewed by more than half of the value"
      ],
      "metadata": {
        "id": "TnYd5aq6qlP2"
      }
    },
    {
      "cell_type": "markdown",
      "source": [
        "We will now continue to analize the most viewed boats to see their characteristics"
      ],
      "metadata": {
        "id": "DyxTx2WhrCGw"
      }
    },
    {
      "cell_type": "markdown",
      "source": [
        "The first we will see it's the Boat type"
      ],
      "metadata": {
        "id": "Dn4ET-zGs2on"
      }
    },
    {
      "cell_type": "code",
      "source": [
        "fig = plt.figure(figsize=(15,15))\n",
        "boat_type = most_viewed.groupby('Boat Type').size().sort_values(ascending=True).reset_index()\n",
        "boat_type = pd.DataFrame(boat_type)\n",
        "boat_type.columns = ['Boat Type','Count']\n",
        "sns.barplot(x='Boat Type',y='Count', data=boat_type)\n",
        "plt.xlabel('Boat Type')\n",
        "plt.ylabel('Count')\n",
        "plt.title(\"'Boat Type's Count of Most viewed Boats\")\n",
        "plt.xticks(rotation=90)\n",
        "plt.show()"
      ],
      "metadata": {
        "colab": {
          "base_uri": "https://localhost:8080/",
          "height": 1000
        },
        "id": "JD7H2HaSs1ve",
        "outputId": "e09bffc3-e351-4316-efc7-1243cbc77acc"
      },
      "execution_count": 23,
      "outputs": [
        {
          "output_type": "display_data",
          "data": {
            "text/plain": [
              "<Figure size 1080x1080 with 1 Axes>"
            ],
            "image/png": "[encoded data removed]"
          },
          "metadata": {
            "needs_background": "light"
          }
        }
      ]
    },
    {
      "cell_type": "markdown",
      "source": [
        "Now the Manufacturer"
      ],
      "metadata": {
        "id": "QvNtKBTvrOCE"
      }
    },
    {
      "cell_type": "code",
      "source": [
        "fig = plt.figure(figsize=(15,15))\n",
        "manufact = most_viewed.groupby('Manufacturer').size().sort_values(ascending=True).reset_index()\n",
        "manufact = pd.DataFrame(manufact)\n",
        "manufact.columns = ['Manufacturer','Count']\n",
        "sns.barplot(x='Manufacturer',y='Count', data=manufact)\n",
        "plt.xlabel('Manufacturer')\n",
        "plt.ylabel('Count')\n",
        "plt.title(\"'Manufacturer' Count of Most viewed Boats\")\n",
        "plt.xticks(rotation=90)\n",
        "plt.show()"
      ],
      "metadata": {
        "colab": {
          "base_uri": "https://localhost:8080/",
          "height": 1000
        },
        "id": "mrRT4p3Iq3Ub",
        "outputId": "b96c2649-742c-443a-825e-184d534d942c"
      },
      "execution_count": 24,
      "outputs": [
        {
          "output_type": "display_data",
          "data": {
            "text/plain": [
              "<Figure size 1080x1080 with 1 Axes>"
            ],
            "image/png": "[encoded data removed]"
          },
          "metadata": {
            "needs_background": "light"
          }
        }
      ]
    },
    {
      "cell_type": "code",
      "source": [
        "fig = plt.figure(figsize=(15,15))\n",
        "the_type = most_viewed.groupby('Type').size().sort_values(ascending=True).reset_index()\n",
        "the_type = pd.DataFrame(the_type)\n",
        "the_type.columns = ['Type','Count']\n",
        "sns.barplot(x='Type',y='Count', data=the_type)\n",
        "plt.xlabel('Type')\n",
        "plt.ylabel('Count')\n",
        "plt.title(\"'Type's Count of Most viewed Boats\")\n",
        "plt.xticks(rotation=90)\n",
        "plt.show()"
      ],
      "metadata": {
        "colab": {
          "base_uri": "https://localhost:8080/",
          "height": 1000
        },
        "id": "TEFdqM7frdhF",
        "outputId": "049e6960-346e-40cb-9d46-839c48ebe6b3"
      },
      "execution_count": 25,
      "outputs": [
        {
          "output_type": "display_data",
          "data": {
            "text/plain": [
              "<Figure size 1080x1080 with 1 Axes>"
            ],
            "image/png": "[encoded data removed]"
          },
          "metadata": {
            "needs_background": "light"
          }
        }
      ]
    },
    {
      "cell_type": "code",
      "source": [
        "fig = plt.figure(figsize=(15,15))\n",
        "by_year = most_viewed.groupby('Year Built').size().sort_values(ascending=True).reset_index()\n",
        "by_year = pd.DataFrame(by_year)\n",
        "by_year.columns = ['Year Built','Count']\n",
        "sns.barplot(x='Year Built',y='Count', data=by_year)\n",
        "plt.xlabel('Year Built')\n",
        "plt.ylabel('Count')\n",
        "plt.title(\"'Year Built's Count of Most viewed Boats\")\n",
        "plt.xticks(rotation=90)\n",
        "plt.show()"
      ],
      "metadata": {
        "colab": {
          "base_uri": "https://localhost:8080/",
          "height": 909
        },
        "id": "GxDgVIysuTZK",
        "outputId": "ae0b4737-0647-48b5-9049-fa5b6fb8ff76"
      },
      "execution_count": 26,
      "outputs": [
        {
          "output_type": "display_data",
          "data": {
            "text/plain": [
              "<Figure size 1080x1080 with 1 Axes>"
            ],
            "image/png": "[encoded data removed]"
          },
          "metadata": {
            "needs_background": "light"
          }
        }
      ]
    },
    {
      "cell_type": "code",
      "source": [
        "fig = plt.figure(figsize=(12,6))\n",
        "sns.regplot(x='Length', y='Width', data=most_viewed, line_kws={\"color\": \"red\"}, ci=None)\n",
        "plt.title('Length Vs Width ')\n",
        "plt.show()"
      ],
      "metadata": {
        "colab": {
          "base_uri": "https://localhost:8080/",
          "height": 404
        },
        "id": "Q1gF-lR605bX",
        "outputId": "11789a6f-4c22-4b09-bcf9-db0a6729e46f"
      },
      "execution_count": 27,
      "outputs": [
        {
          "output_type": "display_data",
          "data": {
            "text/plain": [
              "<Figure size 864x432 with 1 Axes>"
            ],
            "image/png": "[encoded data removed]"
          },
          "metadata": {
            "needs_background": "light"
          }
        }
      ]
    },
    {
      "cell_type": "code",
      "source": [
        "   fig = plt.figure(figsize=(7,8))\n",
        "mat = most_viewed.groupby('Material').size().sort_values(ascending=True).reset_index()\n",
        "mat = pd.DataFrame(mat)\n",
        "mat.columns = ['Material','Count']\n",
        "sns.barplot(x='Material',y='Count', data=mat)\n",
        "plt.xlabel('Material')\n",
        "plt.ylabel('Count')\n",
        "plt.title(\"'Material' Count of Most viewed Boats\")\n",
        "plt.xticks(rotation=90)\n",
        "plt.show()"
      ],
      "metadata": {
        "colab": {
          "base_uri": "https://localhost:8080/",
          "height": 563
        },
        "id": "QAsY93AguTvn",
        "outputId": "f47b58e8-6a4c-4da9-bf9c-e8010d6bd823"
      },
      "execution_count": 28,
      "outputs": [
        {
          "output_type": "display_data",
          "data": {
            "text/plain": [
              "<Figure size 504x576 with 1 Axes>"
            ],
            "image/png": "[encoded data removed]"
          },
          "metadata": {
            "needs_background": "light"
          }
        }
      ]
    },
    {
      "cell_type": "markdown",
      "source": [
        "In conclusion:\n",
        " - The most viewed boats does not necessarily be the most expensive one\n",
        " - The most frequent boat types are: \n",
        "  - Cabin boat\n",
        "  - Motor yatch\n",
        "  - Sport boat\n",
        "\n",
        "- The most frequent Manufacturers are:\n",
        "  - Windy power boats\n",
        "  - Sunseeker power boats\n",
        "  - Princess power boats\n",
        "  - Searay power boats\n",
        "- The most frequent Types are:\n",
        "    - Used boat, unleaded\n",
        "    - Used boat, diesel\n",
        "- The most frequent years are:\n",
        "  - 1996\n",
        "  - 1990, 1995, 2016, 2020\n",
        "\n",
        "- The most frequent Width/Length range is\n",
        "  - [5,2] and [10,3]\n",
        "\n",
        "- The most frequent Material is:\n",
        "  - GRP\n",
        "  - Plastic\n",
        "\n"
      ],
      "metadata": {
        "id": "7NEkUfaeUVgG"
      }
    },
    {
      "cell_type": "code",
      "source": [],
      "metadata": {
        "id": "xxR-LqOZVVJr"
      },
      "execution_count": 28,
      "outputs": []
    }
  ]
}